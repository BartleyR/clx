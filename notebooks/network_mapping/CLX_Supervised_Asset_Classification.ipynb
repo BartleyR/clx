{
 "cells": [
  {
   "cell_type": "markdown",
   "metadata": {},
   "source": [
    "# CLX Asset Classification (Supervised)"
   ]
  },
  {
   "cell_type": "markdown",
   "metadata": {},
   "source": [
    "## Authors\n",
    "- Bhargav Suryadevara (NVIDIA)\n",
    "- Gorkem Batmaz (NVIDIA)"
   ]
  },
  {
   "cell_type": "markdown",
   "metadata": {},
   "source": [
    "## Table of Contents \n",
    "* Introduction\n",
    "* Dataset\n",
    "* Reading in the datasets\n",
    "* Training and inference\n",
    "* References"
   ]
  },
  {
   "cell_type": "markdown",
   "metadata": {},
   "source": [
    "# Introduction"
   ]
  },
  {
   "cell_type": "markdown",
   "metadata": {},
   "source": [
    "In this notebook, we will show how to predict the function of a server with Windows Event Logs using cudf, cuml and pytorch. The machines are labeled as DC, SQL, WEB, DHCP, MAIL and SAP. The dependent variable will be the type of the machine. The features are selected from Windows Event Logs which is in a tabular format. This is a first step to learn the behaviours of certain types of machines in data-centres by classifying them probabilistically. It could help to detect unusual behaviour in a data-centre. For example, some compromised computers might be acting as web/database servers but with their original tag. \n",
    "\n",
    "This work could be expanded by using different log types or different events from the machines as features to improve accuracy. Various labels can be selected to cover different types of machines or data-centres."
   ]
  },
  {
   "cell_type": "markdown",
   "metadata": {},
   "source": [
    "## Library imports"
   ]
  },
  {
   "cell_type": "code",
   "execution_count": 1,
   "metadata": {},
   "outputs": [],
   "source": [
    "from clx.analytics.asset_classification import AssetClassification\n",
    "import cudf\n",
    "from cuml.preprocessing import train_test_split\n",
    "from cuml.preprocessing import LabelEncoder\n",
    "import torch\n",
    "from sklearn.metrics import accuracy_score, f1_score, confusion_matrix\n",
    "import pandas as pd"
   ]
  },
  {
   "cell_type": "markdown",
   "metadata": {},
   "source": [
    "## Initialize variables"
   ]
  },
  {
   "cell_type": "markdown",
   "metadata": {},
   "source": [
    "10000 is chosen as the batch size to optimise the performance for this dataset. It can be changed depending on the data loading mechanism or the setup used. \n",
    "\n",
    "EPOCH should also be adjusted depending on convergence for a specific dataset. \n",
    "\n",
    "label_col indicates the total number of features used plus the dependent variable. Feature names are listed below."
   ]
  },
  {
   "cell_type": "code",
   "execution_count": 2,
   "metadata": {},
   "outputs": [],
   "source": [
    "batch_size = 10000\n",
    "label_col = '19'\n",
    "epochs = 15"
   ]
  },
  {
   "cell_type": "code",
   "execution_count": 3,
   "metadata": {},
   "outputs": [],
   "source": [
    "ac = AssetClassification()"
   ]
  },
  {
   "cell_type": "markdown",
   "metadata": {},
   "source": [
    "## Read the dataset into a GPU dataframe with `cudf.read_csv()` "
   ]
  },
  {
   "cell_type": "code",
   "execution_count": 4,
   "metadata": {},
   "outputs": [],
   "source": [
    "win_events_on_gpu = cudf.read_csv('win_events_18_features.csv')"
   ]
  },
  {
   "cell_type": "code",
   "execution_count": 5,
   "metadata": {},
   "outputs": [
    {
     "data": {
      "text/html": [
       "<div>\n",
       "<style scoped>\n",
       "    .dataframe tbody tr th:only-of-type {\n",
       "        vertical-align: middle;\n",
       "    }\n",
       "\n",
       "    .dataframe tbody tr th {\n",
       "        vertical-align: top;\n",
       "    }\n",
       "\n",
       "    .dataframe thead th {\n",
       "        text-align: right;\n",
       "    }\n",
       "</style>\n",
       "<table border=\"1\" class=\"dataframe\">\n",
       "  <thead>\n",
       "    <tr style=\"text-align: right;\">\n",
       "      <th></th>\n",
       "      <th>1</th>\n",
       "      <th>2</th>\n",
       "      <th>3</th>\n",
       "      <th>4</th>\n",
       "      <th>5</th>\n",
       "      <th>6</th>\n",
       "      <th>7</th>\n",
       "      <th>8</th>\n",
       "      <th>9</th>\n",
       "      <th>10</th>\n",
       "      <th>11</th>\n",
       "      <th>12</th>\n",
       "      <th>13</th>\n",
       "      <th>14</th>\n",
       "      <th>15</th>\n",
       "      <th>16</th>\n",
       "      <th>17</th>\n",
       "      <th>18</th>\n",
       "      <th>19</th>\n",
       "    </tr>\n",
       "  </thead>\n",
       "  <tbody>\n",
       "    <tr>\n",
       "      <th>0</th>\n",
       "      <td>4624</td>\n",
       "      <td>Audit Success</td>\n",
       "      <td>&lt;NA&gt;</td>\n",
       "      <td>An account was successfully logged on.</td>\n",
       "      <td>Microsoft Windows security auditing.</td>\n",
       "      <td>Logon</td>\n",
       "      <td>&lt;NA&gt;</td>\n",
       "      <td>Kerberos</td>\n",
       "      <td>0.0</td>\n",
       "      <td>Kerberos</td>\n",
       "      <td>-</td>\n",
       "      <td>3.0</td>\n",
       "      <td>&lt;NA&gt;</td>\n",
       "      <td>NVIDIA.COM\\MCRAIGHEAD-LT2$</td>\n",
       "      <td>&lt;NA&gt;</td>\n",
       "      <td>&lt;NA&gt;</td>\n",
       "      <td>&lt;NA&gt;</td>\n",
       "      <td>&lt;NA&gt;</td>\n",
       "      <td>DHCP</td>\n",
       "    </tr>\n",
       "    <tr>\n",
       "      <th>1</th>\n",
       "      <td>4756</td>\n",
       "      <td>Audit Success</td>\n",
       "      <td>&lt;NA&gt;</td>\n",
       "      <td>A member was added to a security-enabled unive...</td>\n",
       "      <td>Microsoft Windows security auditing.</td>\n",
       "      <td>Security Group Management</td>\n",
       "      <td>&lt;NA&gt;</td>\n",
       "      <td>&lt;NA&gt;</td>\n",
       "      <td>&lt;NA&gt;</td>\n",
       "      <td>&lt;NA&gt;</td>\n",
       "      <td>&lt;NA&gt;</td>\n",
       "      <td>&lt;NA&gt;</td>\n",
       "      <td>&lt;NA&gt;</td>\n",
       "      <td>&lt;NA&gt;</td>\n",
       "      <td>&lt;NA&gt;</td>\n",
       "      <td>&lt;NA&gt;</td>\n",
       "      <td>&lt;NA&gt;</td>\n",
       "      <td>&lt;NA&gt;</td>\n",
       "      <td>DC</td>\n",
       "    </tr>\n",
       "    <tr>\n",
       "      <th>2</th>\n",
       "      <td>4756</td>\n",
       "      <td>Audit Success</td>\n",
       "      <td>&lt;NA&gt;</td>\n",
       "      <td>A member was added to a security-enabled unive...</td>\n",
       "      <td>Microsoft Windows security auditing.</td>\n",
       "      <td>Security Group Management</td>\n",
       "      <td>&lt;NA&gt;</td>\n",
       "      <td>&lt;NA&gt;</td>\n",
       "      <td>&lt;NA&gt;</td>\n",
       "      <td>&lt;NA&gt;</td>\n",
       "      <td>&lt;NA&gt;</td>\n",
       "      <td>&lt;NA&gt;</td>\n",
       "      <td>&lt;NA&gt;</td>\n",
       "      <td>&lt;NA&gt;</td>\n",
       "      <td>&lt;NA&gt;</td>\n",
       "      <td>&lt;NA&gt;</td>\n",
       "      <td>&lt;NA&gt;</td>\n",
       "      <td>&lt;NA&gt;</td>\n",
       "      <td>DC</td>\n",
       "    </tr>\n",
       "    <tr>\n",
       "      <th>3</th>\n",
       "      <td>4756</td>\n",
       "      <td>Audit Success</td>\n",
       "      <td>&lt;NA&gt;</td>\n",
       "      <td>A member was added to a security-enabled unive...</td>\n",
       "      <td>Microsoft Windows security auditing.</td>\n",
       "      <td>Security Group Management</td>\n",
       "      <td>&lt;NA&gt;</td>\n",
       "      <td>&lt;NA&gt;</td>\n",
       "      <td>&lt;NA&gt;</td>\n",
       "      <td>&lt;NA&gt;</td>\n",
       "      <td>&lt;NA&gt;</td>\n",
       "      <td>&lt;NA&gt;</td>\n",
       "      <td>&lt;NA&gt;</td>\n",
       "      <td>&lt;NA&gt;</td>\n",
       "      <td>&lt;NA&gt;</td>\n",
       "      <td>&lt;NA&gt;</td>\n",
       "      <td>&lt;NA&gt;</td>\n",
       "      <td>&lt;NA&gt;</td>\n",
       "      <td>DC</td>\n",
       "    </tr>\n",
       "    <tr>\n",
       "      <th>4</th>\n",
       "      <td>4756</td>\n",
       "      <td>Audit Success</td>\n",
       "      <td>&lt;NA&gt;</td>\n",
       "      <td>A member was added to a security-enabled unive...</td>\n",
       "      <td>Microsoft Windows security auditing.</td>\n",
       "      <td>Security Group Management</td>\n",
       "      <td>&lt;NA&gt;</td>\n",
       "      <td>&lt;NA&gt;</td>\n",
       "      <td>&lt;NA&gt;</td>\n",
       "      <td>&lt;NA&gt;</td>\n",
       "      <td>&lt;NA&gt;</td>\n",
       "      <td>&lt;NA&gt;</td>\n",
       "      <td>&lt;NA&gt;</td>\n",
       "      <td>&lt;NA&gt;</td>\n",
       "      <td>&lt;NA&gt;</td>\n",
       "      <td>&lt;NA&gt;</td>\n",
       "      <td>&lt;NA&gt;</td>\n",
       "      <td>&lt;NA&gt;</td>\n",
       "      <td>DC</td>\n",
       "    </tr>\n",
       "  </tbody>\n",
       "</table>\n",
       "</div>"
      ],
      "text/plain": [
       "      1              2     3  \\\n",
       "0  4624  Audit Success  <NA>   \n",
       "1  4756  Audit Success  <NA>   \n",
       "2  4756  Audit Success  <NA>   \n",
       "3  4756  Audit Success  <NA>   \n",
       "4  4756  Audit Success  <NA>   \n",
       "\n",
       "                                                   4  \\\n",
       "0             An account was successfully logged on.   \n",
       "1  A member was added to a security-enabled unive...   \n",
       "2  A member was added to a security-enabled unive...   \n",
       "3  A member was added to a security-enabled unive...   \n",
       "4  A member was added to a security-enabled unive...   \n",
       "\n",
       "                                      5                          6     7  \\\n",
       "0  Microsoft Windows security auditing.                      Logon  <NA>   \n",
       "1  Microsoft Windows security auditing.  Security Group Management  <NA>   \n",
       "2  Microsoft Windows security auditing.  Security Group Management  <NA>   \n",
       "3  Microsoft Windows security auditing.  Security Group Management  <NA>   \n",
       "4  Microsoft Windows security auditing.  Security Group Management  <NA>   \n",
       "\n",
       "          8     9        10    11    12    13                          14  \\\n",
       "0  Kerberos   0.0  Kerberos     -   3.0  <NA>  NVIDIA.COM\\MCRAIGHEAD-LT2$   \n",
       "1      <NA>  <NA>      <NA>  <NA>  <NA>  <NA>                        <NA>   \n",
       "2      <NA>  <NA>      <NA>  <NA>  <NA>  <NA>                        <NA>   \n",
       "3      <NA>  <NA>      <NA>  <NA>  <NA>  <NA>                        <NA>   \n",
       "4      <NA>  <NA>      <NA>  <NA>  <NA>  <NA>                        <NA>   \n",
       "\n",
       "     15    16    17    18    19  \n",
       "0  <NA>  <NA>  <NA>  <NA>  DHCP  \n",
       "1  <NA>  <NA>  <NA>  <NA>    DC  \n",
       "2  <NA>  <NA>  <NA>  <NA>    DC  \n",
       "3  <NA>  <NA>  <NA>  <NA>    DC  \n",
       "4  <NA>  <NA>  <NA>  <NA>    DC  "
      ]
     },
     "execution_count": 5,
     "metadata": {},
     "output_type": "execute_result"
    }
   ],
   "source": [
    "win_events_on_gpu.head()"
   ]
  },
  {
   "cell_type": "markdown",
   "metadata": {},
   "source": [
    "The raw data had many other fields. Many of them were either static or mostly blank. After filtering those, there were 18 meaningful columns left that are listed below."
   ]
  },
  {
   "cell_type": "code",
   "execution_count": 6,
   "metadata": {},
   "outputs": [],
   "source": [
    "features = {\n",
    "    \"1\" : \"eventcode\",\n",
    "    \"2\" : \"keywords\",\n",
    "    \"3\" : \"privileges\",\n",
    "    \"4\" : \"message\",\n",
    "    \"5\" : \"sourcename\", \n",
    "    \"6\" : \"taskcategory\",\n",
    "    \"7\" : \"account_for_which_logon_failed_account_domain\",\n",
    "    \"8\" : \"detailed_authentication_information_authentication_package\",\n",
    "    \"9\" : \"detailed_authentication_information_key_length\",\n",
    "    \"10\" : \"detailed_authentication_information_logon_process\",\n",
    "    \"11\" : \"detailed_authentication_information_package_name_ntlm_only\",\n",
    "    \"12\" : \"logon_type\",\n",
    "    \"13\" : \"network_information_workstation_name\",\n",
    "    \"14\" : \"new_logon_security_id\",\n",
    "    \"15\" : \"impersonation_level\",\n",
    "    \"16\" : \"network_information_protocol\",\n",
    "    \"17\" : \"network_information_direction\",\n",
    "    \"18\" : \"filter_information_layer_name\"\n",
    "}"
   ]
  },
  {
   "cell_type": "markdown",
   "metadata": {},
   "source": [
    "#### Categorize the columns\n",
    "Categorical columns will be converted to numerical."
   ]
  },
  {
   "cell_type": "code",
   "execution_count": 7,
   "metadata": {},
   "outputs": [],
   "source": [
    "win_events_on_gpu = ac.categorize_columns(win_events_on_gpu)"
   ]
  },
  {
   "cell_type": "markdown",
   "metadata": {},
   "source": [
    "### Split the dataset into training and test sets using cuML `train_test_split` function\n",
    "Column 19 contains the ground truth about each machine's function that the logs come from. i.e. DC, SQL, WEB, DHCP, MAIL and SAP. Hence it will be used as a label."
   ]
  },
  {
   "cell_type": "code",
   "execution_count": 8,
   "metadata": {},
   "outputs": [],
   "source": [
    "X_train, X_test, Y_train, Y_test = train_test_split(win_events_on_gpu, \"19\", train_size=0.9)\n",
    "X_train[\"label\"] = Y_train"
   ]
  },
  {
   "cell_type": "code",
   "execution_count": 9,
   "metadata": {},
   "outputs": [
    {
     "data": {
      "text/html": [
       "<div>\n",
       "<style scoped>\n",
       "    .dataframe tbody tr th:only-of-type {\n",
       "        vertical-align: middle;\n",
       "    }\n",
       "\n",
       "    .dataframe tbody tr th {\n",
       "        vertical-align: top;\n",
       "    }\n",
       "\n",
       "    .dataframe thead th {\n",
       "        text-align: right;\n",
       "    }\n",
       "</style>\n",
       "<table border=\"1\" class=\"dataframe\">\n",
       "  <thead>\n",
       "    <tr style=\"text-align: right;\">\n",
       "      <th></th>\n",
       "      <th>1</th>\n",
       "      <th>2</th>\n",
       "      <th>3</th>\n",
       "      <th>4</th>\n",
       "      <th>5</th>\n",
       "      <th>6</th>\n",
       "      <th>7</th>\n",
       "      <th>8</th>\n",
       "      <th>9</th>\n",
       "      <th>10</th>\n",
       "      <th>11</th>\n",
       "      <th>12</th>\n",
       "      <th>13</th>\n",
       "      <th>14</th>\n",
       "      <th>15</th>\n",
       "      <th>16</th>\n",
       "      <th>17</th>\n",
       "      <th>18</th>\n",
       "      <th>label</th>\n",
       "    </tr>\n",
       "  </thead>\n",
       "  <tbody>\n",
       "    <tr>\n",
       "      <th>39595</th>\n",
       "      <td>0</td>\n",
       "      <td>1</td>\n",
       "      <td>0</td>\n",
       "      <td>15</td>\n",
       "      <td>0</td>\n",
       "      <td>4</td>\n",
       "      <td>22</td>\n",
       "      <td>0</td>\n",
       "      <td>0</td>\n",
       "      <td>5</td>\n",
       "      <td>0</td>\n",
       "      <td>1</td>\n",
       "      <td>932</td>\n",
       "      <td>2108</td>\n",
       "      <td>2</td>\n",
       "      <td>6</td>\n",
       "      <td>1</td>\n",
       "      <td>1</td>\n",
       "      <td>2</td>\n",
       "    </tr>\n",
       "    <tr>\n",
       "      <th>36695</th>\n",
       "      <td>2</td>\n",
       "      <td>1</td>\n",
       "      <td>2</td>\n",
       "      <td>19</td>\n",
       "      <td>0</td>\n",
       "      <td>6</td>\n",
       "      <td>22</td>\n",
       "      <td>3</td>\n",
       "      <td>2</td>\n",
       "      <td>6</td>\n",
       "      <td>1</td>\n",
       "      <td>6</td>\n",
       "      <td>932</td>\n",
       "      <td>25</td>\n",
       "      <td>3</td>\n",
       "      <td>6</td>\n",
       "      <td>1</td>\n",
       "      <td>1</td>\n",
       "      <td>0</td>\n",
       "    </tr>\n",
       "    <tr>\n",
       "      <th>9573</th>\n",
       "      <td>0</td>\n",
       "      <td>1</td>\n",
       "      <td>0</td>\n",
       "      <td>15</td>\n",
       "      <td>0</td>\n",
       "      <td>4</td>\n",
       "      <td>22</td>\n",
       "      <td>4</td>\n",
       "      <td>1</td>\n",
       "      <td>7</td>\n",
       "      <td>3</td>\n",
       "      <td>1</td>\n",
       "      <td>932</td>\n",
       "      <td>7980</td>\n",
       "      <td>3</td>\n",
       "      <td>6</td>\n",
       "      <td>1</td>\n",
       "      <td>1</td>\n",
       "      <td>1</td>\n",
       "    </tr>\n",
       "    <tr>\n",
       "      <th>69165</th>\n",
       "      <td>0</td>\n",
       "      <td>1</td>\n",
       "      <td>0</td>\n",
       "      <td>15</td>\n",
       "      <td>0</td>\n",
       "      <td>4</td>\n",
       "      <td>22</td>\n",
       "      <td>0</td>\n",
       "      <td>0</td>\n",
       "      <td>5</td>\n",
       "      <td>0</td>\n",
       "      <td>1</td>\n",
       "      <td>0</td>\n",
       "      <td>1185</td>\n",
       "      <td>2</td>\n",
       "      <td>6</td>\n",
       "      <td>1</td>\n",
       "      <td>1</td>\n",
       "      <td>0</td>\n",
       "    </tr>\n",
       "    <tr>\n",
       "      <th>29385</th>\n",
       "      <td>0</td>\n",
       "      <td>1</td>\n",
       "      <td>0</td>\n",
       "      <td>15</td>\n",
       "      <td>0</td>\n",
       "      <td>4</td>\n",
       "      <td>22</td>\n",
       "      <td>0</td>\n",
       "      <td>0</td>\n",
       "      <td>5</td>\n",
       "      <td>0</td>\n",
       "      <td>1</td>\n",
       "      <td>932</td>\n",
       "      <td>8714</td>\n",
       "      <td>3</td>\n",
       "      <td>6</td>\n",
       "      <td>1</td>\n",
       "      <td>1</td>\n",
       "      <td>0</td>\n",
       "    </tr>\n",
       "  </tbody>\n",
       "</table>\n",
       "</div>"
      ],
      "text/plain": [
       "       1  2  3   4  5  6   7  8  9  10  11  12   13    14  15  16  17  18  \\\n",
       "39595  0  1  0  15  0  4  22  0  0   5   0   1  932  2108   2   6   1   1   \n",
       "36695  2  1  2  19  0  6  22  3  2   6   1   6  932    25   3   6   1   1   \n",
       "9573   0  1  0  15  0  4  22  4  1   7   3   1  932  7980   3   6   1   1   \n",
       "69165  0  1  0  15  0  4  22  0  0   5   0   1    0  1185   2   6   1   1   \n",
       "29385  0  1  0  15  0  4  22  0  0   5   0   1  932  8714   3   6   1   1   \n",
       "\n",
       "       label  \n",
       "39595      2  \n",
       "36695      0  \n",
       "9573       1  \n",
       "69165      0  \n",
       "29385      0  "
      ]
     },
     "execution_count": 9,
     "metadata": {},
     "output_type": "execute_result"
    }
   ],
   "source": [
    "X_train.head()"
   ]
  },
  {
   "cell_type": "code",
   "execution_count": 10,
   "metadata": {},
   "outputs": [
    {
     "data": {
      "text/plain": [
       "0    0\n",
       "1    1\n",
       "2    2\n",
       "3    3\n",
       "4    4\n",
       "5    5\n",
       "Name: 19, dtype: int16"
      ]
     },
     "execution_count": 10,
     "metadata": {},
     "output_type": "execute_result"
    }
   ],
   "source": [
    "Y_train.unique()"
   ]
  },
  {
   "cell_type": "markdown",
   "metadata": {},
   "source": [
    "### Print Labels\n",
    "Making sure the test set contains all labels"
   ]
  },
  {
   "cell_type": "code",
   "execution_count": 11,
   "metadata": {},
   "outputs": [
    {
     "data": {
      "text/plain": [
       "0    0\n",
       "1    1\n",
       "2    2\n",
       "3    3\n",
       "4    4\n",
       "5    5\n",
       "Name: 19, dtype: int16"
      ]
     },
     "execution_count": 11,
     "metadata": {},
     "output_type": "execute_result"
    }
   ],
   "source": [
    "Y_test.unique()"
   ]
  },
  {
   "cell_type": "markdown",
   "metadata": {},
   "source": [
    "## Training \n",
    "\n",
    "Asset Classification training uses the fastai tabular model. More details can be found at https://github.com/fastai/fastai/blob/master/fastai/tabular/models.py#L6\n",
    "\n",
    "Feature columns will be embedded so that they can be used as categorical values. The limit can be changed depending on the accuracy of the dataset."
   ]
  },
  {
   "cell_type": "markdown",
   "metadata": {},
   "source": [
    "Adam is the optimizer used in the training process; it is popular because it produces good results in various tasks. In its paper, computing the first and the second moment estimates and updating the parameters are summarized as follows"
   ]
  },
  {
   "cell_type": "markdown",
   "metadata": {},
   "source": [
    "$$\\alpha_{t}=\\alpha \\cdot \\sqrt{1-\\beta_{2}^{t}} /\\left(1-\\beta_{1}^{t}\\right)$$"
   ]
  },
  {
   "cell_type": "markdown",
   "metadata": {},
   "source": [
    "More detailson Adam can be found at https://arxiv.org/pdf/1412.6980.pdf"
   ]
  },
  {
   "cell_type": "markdown",
   "metadata": {},
   "source": [
    "We have found that the way we partition the dataframes with a 10000 batch size gives us the optimum data loading capability. The **batch_size** argument can be adjusted for different sizes of datasets."
   ]
  },
  {
   "cell_type": "code",
   "execution_count": 12,
   "metadata": {},
   "outputs": [
    {
     "name": "stderr",
     "output_type": "stream",
     "text": [
      "/opt/conda/envs/clx_dev/lib/python3.7/site-packages/cudf/io/dlpack.py:74: UserWarning: WARNING: cuDF to_dlpack() produces column-major (Fortran order) output. If the output tensor needs to be row major, transpose the output of this function.\n",
      "  return libdlpack.to_dlpack(gdf_cols)\n"
     ]
    },
    {
     "name": "stdout",
     "output_type": "stream",
     "text": [
      "training loss:  1.4136250664809147\n",
      "valid loss 0.965 and accuracy 0.767\n",
      "training loss:  0.8499849299514194\n",
      "valid loss 0.696 and accuracy 0.771\n",
      "training loss:  0.6722361403187076\n",
      "valid loss 0.591 and accuracy 0.816\n",
      "training loss:  0.5685139073013329\n",
      "valid loss 0.501 and accuracy 0.845\n",
      "training loss:  0.4828818655419584\n",
      "valid loss 0.428 and accuracy 0.868\n",
      "training loss:  0.4202517175491208\n",
      "valid loss 0.380 and accuracy 0.877\n",
      "training loss:  0.375006778393924\n",
      "valid loss 0.344 and accuracy 0.887\n",
      "training loss:  0.3404633395877056\n",
      "valid loss 0.317 and accuracy 0.900\n",
      "training loss:  0.31362021492817377\n",
      "valid loss 0.295 and accuracy 0.905\n",
      "training loss:  0.29396465170887426\n",
      "valid loss 0.280 and accuracy 0.908\n",
      "training loss:  0.2780476712029165\n",
      "valid loss 0.268 and accuracy 0.909\n",
      "training loss:  0.26583347537215235\n",
      "valid loss 0.258 and accuracy 0.914\n",
      "training loss:  0.25608768926957526\n",
      "valid loss 0.250 and accuracy 0.915\n",
      "training loss:  0.2477132092886084\n",
      "valid loss 0.245 and accuracy 0.918\n",
      "training loss:  0.24146995056093423\n",
      "valid loss 0.240 and accuracy 0.920\n"
     ]
    }
   ],
   "source": [
    "# ac = AssetClassification()\n",
    "ac.train_model(X_train, \"label\", batch_size, epochs, lr=0.01, wd=0.0)"
   ]
  },
  {
   "cell_type": "markdown",
   "metadata": {},
   "source": [
    "## Evaluation"
   ]
  },
  {
   "cell_type": "code",
   "execution_count": 13,
   "metadata": {},
   "outputs": [],
   "source": [
    "pred_results = ac.predict(X_test).to_array()\n",
    "true_results = Y_test.to_array()"
   ]
  },
  {
   "cell_type": "code",
   "execution_count": 19,
   "metadata": {},
   "outputs": [
    {
     "name": "stderr",
     "output_type": "stream",
     "text": [
      "/opt/conda/envs/clx_dev/lib/python3.7/site-packages/cudf/io/dlpack.py:74: UserWarning: WARNING: cuDF to_dlpack() produces column-major (Fortran order) output. If the output tensor needs to be row major, transpose the output of this function.\n",
      "  return libdlpack.to_dlpack(gdf_cols)\n"
     ]
    },
    {
     "data": {
      "text/plain": [
       "0       0\n",
       "1       0\n",
       "2       0\n",
       "3       0\n",
       "4       2\n",
       "       ..\n",
       "8204    0\n",
       "8205    4\n",
       "8206    0\n",
       "8207    3\n",
       "8208    0\n",
       "Length: 8209, dtype: int64"
      ]
     },
     "execution_count": 19,
     "metadata": {},
     "output_type": "execute_result"
    }
   ],
   "source": [
    "ac.predict(X_test)"
   ]
  },
  {
   "cell_type": "code",
   "execution_count": 14,
   "metadata": {},
   "outputs": [
    {
     "data": {
      "text/plain": [
       "cudf.core.series.Series"
      ]
     },
     "execution_count": 14,
     "metadata": {},
     "output_type": "execute_result"
    }
   ],
   "source": [
    "type(ac.predict(X_test))"
   ]
  },
  {
   "cell_type": "code",
   "execution_count": 15,
   "metadata": {},
   "outputs": [
    {
     "name": "stdout",
     "output_type": "stream",
     "text": [
      "micro F1 score: 0.9171640881958826\n"
     ]
    }
   ],
   "source": [
    "f1_score_ = f1_score(pred_results, true_results, average='micro')\n",
    "print('micro F1 score: %s'%(f1_score_))"
   ]
  },
  {
   "cell_type": "code",
   "execution_count": 16,
   "metadata": {},
   "outputs": [],
   "source": [
    "torch.cuda.empty_cache()"
   ]
  },
  {
   "cell_type": "code",
   "execution_count": 17,
   "metadata": {},
   "outputs": [],
   "source": [
    "labels = [\"DC\",\"DHCP\",\"MAIL\",\"SAP\",\"SQL\",\"WEB\"]\n",
    "a = confusion_matrix(true_results, pred_results)"
   ]
  },
  {
   "cell_type": "code",
   "execution_count": 18,
   "metadata": {},
   "outputs": [
    {
     "data": {
      "text/html": [
       "<div>\n",
       "<style scoped>\n",
       "    .dataframe tbody tr th:only-of-type {\n",
       "        vertical-align: middle;\n",
       "    }\n",
       "\n",
       "    .dataframe tbody tr th {\n",
       "        vertical-align: top;\n",
       "    }\n",
       "\n",
       "    .dataframe thead th {\n",
       "        text-align: right;\n",
       "    }\n",
       "</style>\n",
       "<table border=\"1\" class=\"dataframe\">\n",
       "  <thead>\n",
       "    <tr style=\"text-align: right;\">\n",
       "      <th></th>\n",
       "      <th>DC</th>\n",
       "      <th>DHCP</th>\n",
       "      <th>MAIL</th>\n",
       "      <th>SAP</th>\n",
       "      <th>SQL</th>\n",
       "      <th>WEB</th>\n",
       "    </tr>\n",
       "  </thead>\n",
       "  <tbody>\n",
       "    <tr>\n",
       "      <th>DC</th>\n",
       "      <td>3413</td>\n",
       "      <td>21</td>\n",
       "      <td>14</td>\n",
       "      <td>9</td>\n",
       "      <td>80</td>\n",
       "      <td>8</td>\n",
       "    </tr>\n",
       "    <tr>\n",
       "      <th>DHCP</th>\n",
       "      <td>104</td>\n",
       "      <td>669</td>\n",
       "      <td>0</td>\n",
       "      <td>3</td>\n",
       "      <td>16</td>\n",
       "      <td>0</td>\n",
       "    </tr>\n",
       "    <tr>\n",
       "      <th>MAIL</th>\n",
       "      <td>14</td>\n",
       "      <td>0</td>\n",
       "      <td>2591</td>\n",
       "      <td>6</td>\n",
       "      <td>8</td>\n",
       "      <td>0</td>\n",
       "    </tr>\n",
       "    <tr>\n",
       "      <th>SAP</th>\n",
       "      <td>22</td>\n",
       "      <td>0</td>\n",
       "      <td>4</td>\n",
       "      <td>157</td>\n",
       "      <td>5</td>\n",
       "      <td>0</td>\n",
       "    </tr>\n",
       "    <tr>\n",
       "      <th>SQL</th>\n",
       "      <td>234</td>\n",
       "      <td>2</td>\n",
       "      <td>16</td>\n",
       "      <td>18</td>\n",
       "      <td>650</td>\n",
       "      <td>27</td>\n",
       "    </tr>\n",
       "    <tr>\n",
       "      <th>WEB</th>\n",
       "      <td>37</td>\n",
       "      <td>0</td>\n",
       "      <td>0</td>\n",
       "      <td>1</td>\n",
       "      <td>31</td>\n",
       "      <td>49</td>\n",
       "    </tr>\n",
       "  </tbody>\n",
       "</table>\n",
       "</div>"
      ],
      "text/plain": [
       "        DC  DHCP  MAIL  SAP  SQL  WEB\n",
       "DC    3413    21    14    9   80    8\n",
       "DHCP   104   669     0    3   16    0\n",
       "MAIL    14     0  2591    6    8    0\n",
       "SAP     22     0     4  157    5    0\n",
       "SQL    234     2    16   18  650   27\n",
       "WEB     37     0     0    1   31   49"
      ]
     },
     "execution_count": 18,
     "metadata": {},
     "output_type": "execute_result"
    }
   ],
   "source": [
    "pd.DataFrame(a, index=labels, columns=labels)"
   ]
  },
  {
   "cell_type": "markdown",
   "metadata": {},
   "source": [
    "The confusion matrix shows that some machines' function can be predicted really well, whereas some of them need more tuning or more features. This work can be improved and expanded to cover individual data-centres to create a realistic map of the network using ML by not just relying on the naming conventions. It could also help to detect more prominent scale anomalies like multiple machines, not acting per their tag."
   ]
  },
  {
   "cell_type": "markdown",
   "metadata": {},
   "source": [
    "## References:\n",
    "* https://github.com/fastai/fastai/blob/master/fastai/tabular/models.py#L6\n",
    "* https://jovian.ml/aakashns/04-feedforward-nn\n",
    "* https://www.kaggle.com/dienhoa/reverse-tabular-module-of-fast-ai-v1\n",
    "* https://github.com/fastai/fastai/blob/master/fastai/layers.py#L44"
   ]
  }
 ],
 "metadata": {
  "kernelspec": {
   "display_name": "Python 3",
   "language": "python",
   "name": "python3"
  },
  "language_info": {
   "codemirror_mode": {
    "name": "ipython",
    "version": 3
   },
   "file_extension": ".py",
   "mimetype": "text/x-python",
   "name": "python",
   "nbconvert_exporter": "python",
   "pygments_lexer": "ipython3",
   "version": "3.7.8"
  }
 },
 "nbformat": 4,
 "nbformat_minor": 4
}
